{
 "cells": [
  {
   "cell_type": "code",
   "execution_count": 1,
   "id": "a08b8d08",
   "metadata": {},
   "outputs": [
    {
     "data": {
      "text/plain": [
       "'\"\" write  a program which will accept basic salary of an employee, employee number, emplyee name, designation, basic salary,\\ncalculate the following if the basic salary of an employee is more than or equal to 10000 then , \\ngiven: \\n    da=20%of basic salary\\n    ta=15% of basic salary\\n    hra=20%of basic salary \\n    ma=5%of basic salary\\notherwise(basicsal<10000) then give\\n    da=30%of basic salary\\n    ta=20% of basic salary\\n    hra=25%of basic salary \\n    ma=10%of basic salary\\nCalculate Net Salary:\\n    NetSal=basicsal+da+ta+hra+ma'"
      ]
     },
     "execution_count": 1,
     "metadata": {},
     "output_type": "execute_result"
    }
   ],
   "source": [
    "\"\"\"\"\" write  a program which will accept basic salary of an employee, employee number, emplyee name, designation, basic salary,\n",
    "calculate the following if the basic salary of an employee is more than or equal to 10000 then , \n",
    "given: \n",
    "    da=20%of basic salary\n",
    "    ta=15% of basic salary\n",
    "    hra=20%of basic salary \n",
    "    ma=5%of basic salary\n",
    "otherwise(basicsal<10000) then give\n",
    "    da=30%of basic salary\n",
    "    ta=20% of basic salary\n",
    "    hra=25%of basic salary \n",
    "    ma=10%of basic salary\n",
    "Calculate Net Salary:\n",
    "    NetSal=basicsal+da+ta+hra+ma\"\"\"\"\"\n",
    "    "
   ]
  },
  {
   "cell_type": "code",
   "execution_count": 2,
   "id": "bd84548f",
   "metadata": {},
   "outputs": [
    {
     "name": "stdout",
     "output_type": "stream",
     "text": [
      "enter basic salary of an employee:12000\n"
     ]
    }
   ],
   "source": [
    "bsal=float(input(\"enter basic salary of an employee:\"))"
   ]
  },
  {
   "cell_type": "code",
   "execution_count": 5,
   "id": "d313ae9e",
   "metadata": {},
   "outputs": [
    {
     "name": "stdout",
     "output_type": "stream",
     "text": [
      "enter employee number:5642\n"
     ]
    }
   ],
   "source": [
    "empno=float(input(\"enter employee number:\"))"
   ]
  },
  {
   "cell_type": "code",
   "execution_count": 6,
   "id": "a00cbf6c",
   "metadata": {},
   "outputs": [
    {
     "name": "stdout",
     "output_type": "stream",
     "text": [
      "enter employee name:Saloni\n"
     ]
    }
   ],
   "source": [
    "ename=(input(\"enter employee name:\"))"
   ]
  },
  {
   "cell_type": "code",
   "execution_count": 8,
   "id": "1d5bad7f",
   "metadata": {},
   "outputs": [
    {
     "name": "stdout",
     "output_type": "stream",
     "text": [
      "enter employee designation:software engineer\n"
     ]
    }
   ],
   "source": [
    "dsg=(input(\"enter employee designation:\"))"
   ]
  },
  {
   "cell_type": "code",
   "execution_count": 13,
   "id": "42aeca6a",
   "metadata": {},
   "outputs": [],
   "source": [
    "if(bsal>=10000):\n",
    "    da=(20/100) *bsal\n",
    "    ta=(15/100) *bsal\n",
    "    hra=(20/100) *bsal\n",
    "    ma=(5/100) *bsal\n",
    "else:\n",
    "    if(bsal<10000):\n",
    "        da=(30/100) *bsal\n",
    "        ta=(20/100) *bsal\n",
    "        hra=(25/100) *bsal\n",
    "        ma=(10/100) *bsal\n",
    "netsal=bsal+da+ta+hra+ma\n",
    "    \n",
    "        "
   ]
  },
  {
   "cell_type": "code",
   "execution_count": 15,
   "id": "8c70ebb9",
   "metadata": {},
   "outputs": [
    {
     "name": "stdout",
     "output_type": "stream",
     "text": [
      "the basic salary of an employee bsal 12000.0:\n"
     ]
    }
   ],
   "source": [
    "print(\"the basic salary of an employee bsal {}:\".format(bsal))"
   ]
  },
  {
   "cell_type": "code",
   "execution_count": 16,
   "id": "9cb26b3f",
   "metadata": {},
   "outputs": [
    {
     "name": "stdout",
     "output_type": "stream",
     "text": [
      " the employee number empno5642.0:\n"
     ]
    }
   ],
   "source": [
    "print(\" the employee number empno {}:\".format(empno))"
   ]
  },
  {
   "cell_type": "code",
   "execution_count": 17,
   "id": "a5865bd5",
   "metadata": {},
   "outputs": [
    {
     "name": "stdout",
     "output_type": "stream",
     "text": [
      "the employee name ename Saloni\n"
     ]
    }
   ],
   "source": [
    "print(\"the employee name ename {}\".format(ename))"
   ]
  },
  {
   "cell_type": "code",
   "execution_count": 18,
   "id": "9e25fb21",
   "metadata": {},
   "outputs": [
    {
     "name": "stdout",
     "output_type": "stream",
     "text": [
      "the employee name dsg software engineer\n"
     ]
    }
   ],
   "source": [
    "print(\"the employee name dsg {}\".format(dsg))"
   ]
  },
  {
   "cell_type": "code",
   "execution_count": 19,
   "id": "c9c82da3",
   "metadata": {},
   "outputs": [
    {
     "name": "stdout",
     "output_type": "stream",
     "text": [
      "the employee details 2400.0,1800.0,2400.0,600.0\n"
     ]
    }
   ],
   "source": [
    "print(\"the employee details {},{},{},{}\".format(da,ta,hra,ma))"
   ]
  },
  {
   "cell_type": "code",
   "execution_count": 20,
   "id": "67a4209d",
   "metadata": {},
   "outputs": [
    {
     "name": "stdout",
     "output_type": "stream",
     "text": [
      "the net salary of an employee: 19200.0\n"
     ]
    }
   ],
   "source": [
    "print(\"the net salary of an employee: {}\".format(netsal))"
   ]
  }
 ],
 "metadata": {
  "kernelspec": {
   "display_name": "Python 3 (ipykernel)",
   "language": "python",
   "name": "python3"
  },
  "language_info": {
   "codemirror_mode": {
    "name": "ipython",
    "version": 3
   },
   "file_extension": ".py",
   "mimetype": "text/x-python",
   "name": "python",
   "nbconvert_exporter": "python",
   "pygments_lexer": "ipython3",
   "version": "3.10.9"
  }
 },
 "nbformat": 4,
 "nbformat_minor": 5
}
